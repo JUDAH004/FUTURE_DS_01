{
 "cells": [
  {
   "cell_type": "markdown",
   "id": "e2a28c6e",
   "metadata": {},
   "source": [
    "# **📊 Business Sales Dashboard from E-commerce Data**"
   ]
  },
  {
   "cell_type": "markdown",
   "id": "9e3a44fb",
   "metadata": {},
   "source": [
    "## **1. Business Understanding**"
   ]
  },
  {
   "cell_type": "markdown",
   "id": "06a4530b",
   "metadata": {},
   "source": [
    "In this project I will work with e-commerce sales data to build a professional, interactive dashboard. The goal is to help business owners and decision-makers understand:\n",
    "\n",
    " - What are the best-selling products?\n",
    " - When do sales peak during the year?\n",
    " - Which categories or regions bring the most revenue?\n",
    " \n",
    " I will also work with Power BI and Excel to make interactive dashboards.\n"
   ]
  },
  {
   "cell_type": "markdown",
   "id": "97b1f8cf",
   "metadata": {},
   "source": [
    "## **2.Data Understanding**"
   ]
  },
  {
   "cell_type": "markdown",
   "id": "40178128",
   "metadata": {},
   "source": [
    "The Data is sourced from a kaggle(🛒 E-commerce Sales Data (Kaggle)).The data is comprised of 3 files(2 csv and 1 xlsx)."
   ]
  },
  {
   "cell_type": "code",
   "execution_count": 7,
   "id": "8c0efd7d",
   "metadata": {},
   "outputs": [],
   "source": [
    "#import necessary libraries\n",
    "import pandas as pd \n",
    "import numpy as np"
   ]
  },
  {
   "cell_type": "code",
   "execution_count": 8,
   "id": "02a0f1ca",
   "metadata": {},
   "outputs": [],
   "source": [
    "#%pip install --upgrade openpyxl"
   ]
  },
  {
   "cell_type": "code",
   "execution_count": 9,
   "id": "e6390767",
   "metadata": {},
   "outputs": [],
   "source": [
    "# Load the dataset\n",
    "df1 = pd.read_csv(r'C:\\Users\\JUDAH\\Desktop\\Task 1\\FUTURE_DS_01\\Data\\Year 2009-2010.csv' , encoding='latin1')\n",
    "df2 = pd.read_csv(r'C:\\Users\\JUDAH\\Desktop\\Task 1\\FUTURE_DS_01\\Data\\Year 2010-2011.csv', encoding='latin1')"
   ]
  },
  {
   "cell_type": "code",
   "execution_count": 10,
   "id": "5d34e4d0",
   "metadata": {},
   "outputs": [
    {
     "name": "stdout",
     "output_type": "stream",
     "text": [
      "First few rows of df1:\n"
     ]
    },
    {
     "name": "stdout",
     "output_type": "stream",
     "text": [
      "  Invoice StockCode                          Description  Quantity  \\\n",
      "0  489434     85048  15CM CHRISTMAS GLASS BALL 20 LIGHTS        12   \n",
      "1  489434    79323P                   PINK CHERRY LIGHTS        12   \n",
      "2  489434    79323W                  WHITE CHERRY LIGHTS        12   \n",
      "3  489434     22041         RECORD FRAME 7\" SINGLE SIZE         48   \n",
      "4  489434     21232       STRAWBERRY CERAMIC TRINKET BOX        24   \n",
      "\n",
      "      InvoiceDate  Price  Customer ID         Country  \n",
      "0  12/1/2009 7:45   6.95      13085.0  United Kingdom  \n",
      "1  12/1/2009 7:45   6.75      13085.0  United Kingdom  \n",
      "2  12/1/2009 7:45   6.75      13085.0  United Kingdom  \n",
      "3  12/1/2009 7:45   2.10      13085.0  United Kingdom  \n",
      "4  12/1/2009 7:45   1.25      13085.0  United Kingdom  \n",
      "\n",
      "First few rows of df2:\n",
      "  Invoice StockCode                          Description  Quantity  \\\n",
      "0  536365    85123A   WHITE HANGING HEART T-LIGHT HOLDER         6   \n",
      "1  536365     71053                  WHITE METAL LANTERN         6   \n",
      "2  536365    84406B       CREAM CUPID HEARTS COAT HANGER         8   \n",
      "3  536365    84029G  KNITTED UNION FLAG HOT WATER BOTTLE         6   \n",
      "4  536365    84029E       RED WOOLLY HOTTIE WHITE HEART.         6   \n",
      "\n",
      "      InvoiceDate  Price  Customer ID         Country  \n",
      "0  12/1/2010 8:26   2.55      17850.0  United Kingdom  \n",
      "1  12/1/2010 8:26   3.39      17850.0  United Kingdom  \n",
      "2  12/1/2010 8:26   2.75      17850.0  United Kingdom  \n",
      "3  12/1/2010 8:26   3.39      17850.0  United Kingdom  \n",
      "4  12/1/2010 8:26   3.39      17850.0  United Kingdom  \n"
     ]
    }
   ],
   "source": [
    "# Check the first few rows of each dataframe\n",
    "print(\"First few rows of df1:\")\n",
    "print(df1.head())\n",
    "\n",
    "print(\"\\nFirst few rows of df2:\")   \n",
    "print(df2.head())\n"
   ]
  },
  {
   "cell_type": "code",
   "execution_count": 11,
   "id": "d34f3aad",
   "metadata": {},
   "outputs": [
    {
     "name": "stdout",
     "output_type": "stream",
     "text": [
      "\n",
      "Shape of df1: (525461, 8)\n",
      "Shape of df2: (541910, 8)\n"
     ]
    }
   ],
   "source": [
    "# Check the shape of each dataframe\n",
    "print(\"\\nShape of df1:\", df1.shape)\n",
    "print(\"Shape of df2:\", df2.shape)  "
   ]
  },
  {
   "cell_type": "code",
   "execution_count": 12,
   "id": "26f96093",
   "metadata": {},
   "outputs": [
    {
     "name": "stdout",
     "output_type": "stream",
     "text": [
      "\n",
      "Missing values in df1:\n",
      " Invoice             0\n",
      "StockCode           0\n",
      "Description      2928\n",
      "Quantity            0\n",
      "InvoiceDate         0\n",
      "Price               0\n",
      "Customer ID    107927\n",
      "Country             0\n",
      "dtype: int64\n",
      "\n",
      "Missing values in df2:\n",
      " Invoice             0\n",
      "StockCode           0\n",
      "Description      1454\n",
      "Quantity            0\n",
      "InvoiceDate         0\n",
      "Price               0\n",
      "Customer ID    135080\n",
      "Country             0\n",
      "dtype: int64\n"
     ]
    }
   ],
   "source": [
    "# check for missing values\n",
    "print(\"\\nMissing values in df1:\\n\", df1.isnull().sum())\n",
    "print(\"\\nMissing values in df2:\\n\", df2.isnull().sum())     "
   ]
  },
  {
   "cell_type": "code",
   "execution_count": 13,
   "id": "44121a24",
   "metadata": {},
   "outputs": [
    {
     "name": "stdout",
     "output_type": "stream",
     "text": [
      "\n",
      "Descriptive statistics for df1:\n",
      "        Invoice StockCode                         Description       Quantity  \\\n",
      "count   525461    525461                              522533  525461.000000   \n",
      "unique   28816      4632                                4681            NaN   \n",
      "top     537434    85123A  WHITE HANGING HEART T-LIGHT HOLDER            NaN   \n",
      "freq       675      3516                                3549            NaN   \n",
      "mean       NaN       NaN                                 NaN      10.337667   \n",
      "std        NaN       NaN                                 NaN     107.424110   \n",
      "min        NaN       NaN                                 NaN   -9600.000000   \n",
      "25%        NaN       NaN                                 NaN       1.000000   \n",
      "50%        NaN       NaN                                 NaN       3.000000   \n",
      "75%        NaN       NaN                                 NaN      10.000000   \n",
      "max        NaN       NaN                                 NaN   19152.000000   \n",
      "\n",
      "            InvoiceDate          Price    Customer ID         Country  \n",
      "count            525461  525461.000000  417534.000000          525461  \n",
      "unique            25296            NaN            NaN              40  \n",
      "top     12/6/2010 16:57            NaN            NaN  United Kingdom  \n",
      "freq                675            NaN            NaN          485852  \n",
      "mean                NaN       4.688834   15360.645478             NaN  \n",
      "std                 NaN     146.126914    1680.811316             NaN  \n",
      "min                 NaN  -53594.360000   12346.000000             NaN  \n",
      "25%                 NaN       1.250000   13983.000000             NaN  \n",
      "50%                 NaN       2.100000   15311.000000             NaN  \n",
      "75%                 NaN       4.210000   16799.000000             NaN  \n",
      "max                 NaN   25111.090000   18287.000000             NaN  \n",
      "\n",
      "Descriptive statistics for df2:\n",
      "        Invoice StockCode                         Description       Quantity  \\\n",
      "count   541910    541910                              540456  541910.000000   \n",
      "unique   25900      4070                                4223            NaN   \n",
      "top     573585    85123A  WHITE HANGING HEART T-LIGHT HOLDER            NaN   \n",
      "freq      1114      2313                                2369            NaN   \n",
      "mean       NaN       NaN                                 NaN       9.552234   \n",
      "std        NaN       NaN                                 NaN     218.080957   \n",
      "min        NaN       NaN                                 NaN  -80995.000000   \n",
      "25%        NaN       NaN                                 NaN       1.000000   \n",
      "50%        NaN       NaN                                 NaN       3.000000   \n",
      "75%        NaN       NaN                                 NaN      10.000000   \n",
      "max        NaN       NaN                                 NaN   80995.000000   \n",
      "\n",
      "             InvoiceDate          Price    Customer ID         Country  \n",
      "count             541910  541910.000000  406830.000000          541910  \n",
      "unique             23260            NaN            NaN              38  \n",
      "top     10/31/2011 14:41            NaN            NaN  United Kingdom  \n",
      "freq                1114            NaN            NaN          495478  \n",
      "mean                 NaN       4.611138   15287.684160             NaN  \n",
      "std                  NaN      96.759765    1713.603074             NaN  \n",
      "min                  NaN  -11062.060000   12346.000000             NaN  \n",
      "25%                  NaN       1.250000   13953.000000             NaN  \n",
      "50%                  NaN       2.080000   15152.000000             NaN  \n",
      "75%                  NaN       4.130000   16791.000000             NaN  \n",
      "max                  NaN   38970.000000   18287.000000             NaN  \n"
     ]
    }
   ],
   "source": [
    "#Check discriptive statistics\n",
    "print(\"\\nDescriptive statistics for df1:\\n\", df1.describe(include='all'))\n",
    "print(\"\\nDescriptive statistics for df2:\\n\", df2.describe(include='all'))"
   ]
  },
  {
   "cell_type": "markdown",
   "id": "fd6e9042",
   "metadata": {},
   "source": [
    "## **3.Data Preparation**"
   ]
  },
  {
   "cell_type": "code",
   "execution_count": 14,
   "id": "a488d11f",
   "metadata": {},
   "outputs": [
    {
     "name": "stderr",
     "output_type": "stream",
     "text": [
      "<ipython-input-14-702de1faf085>:3: SettingWithCopyWarning: \n",
      "A value is trying to be set on a copy of a slice from a DataFrame.\n",
      "Try using .loc[row_indexer,col_indexer] = value instead\n",
      "\n",
      "See the caveats in the documentation: https://pandas.pydata.org/pandas-docs/stable/user_guide/indexing.html#returning-a-view-versus-a-copy\n",
      "  df_cleaned1['Description'] = df_cleaned1['Description'].str.strip()\n"
     ]
    }
   ],
   "source": [
    "# Clean missing values in df1\n",
    "df_cleaned1 = df1.dropna(subset=['Customer ID'])\n",
    "df_cleaned1['Description'] = df_cleaned1['Description'].str.strip()"
   ]
  },
  {
   "cell_type": "code",
   "execution_count": 15,
   "id": "0ae4e709",
   "metadata": {},
   "outputs": [
    {
     "name": "stdout",
     "output_type": "stream",
     "text": [
      "\n",
      "Missing values in cleaned df1:\n",
      " Invoice        0\n",
      "StockCode      0\n",
      "Description    0\n",
      "Quantity       0\n",
      "InvoiceDate    0\n",
      "Price          0\n",
      "Customer ID    0\n",
      "Country        0\n",
      "dtype: int64\n"
     ]
    }
   ],
   "source": [
    "# Check missing values after cleaning\n",
    "print(\"\\nMissing values in cleaned df1:\\n\", df_cleaned1.isnull().sum())"
   ]
  },
  {
   "cell_type": "code",
   "execution_count": 16,
   "id": "836554ee",
   "metadata": {},
   "outputs": [
    {
     "name": "stdout",
     "output_type": "stream",
     "text": [
      "\n",
      "Shape of cleaned df1: (417534, 8)\n"
     ]
    }
   ],
   "source": [
    "# Check shape after cleaning\n",
    "print(\"\\nShape of cleaned df1:\", df_cleaned1.shape)"
   ]
  },
  {
   "cell_type": "code",
   "execution_count": 17,
   "id": "3abc877c",
   "metadata": {},
   "outputs": [
    {
     "name": "stderr",
     "output_type": "stream",
     "text": [
      "<ipython-input-17-489fe59822df>:3: SettingWithCopyWarning: \n",
      "A value is trying to be set on a copy of a slice from a DataFrame.\n",
      "Try using .loc[row_indexer,col_indexer] = value instead\n",
      "\n",
      "See the caveats in the documentation: https://pandas.pydata.org/pandas-docs/stable/user_guide/indexing.html#returning-a-view-versus-a-copy\n",
      "  df_cleaned2['Description'] = df_cleaned2['Description'].str.strip()\n"
     ]
    }
   ],
   "source": [
    "# Clean missing values in df2\n",
    "df_cleaned2 = df2.dropna(subset=['Customer ID'])\n",
    "df_cleaned2['Description'] = df_cleaned2['Description'].str.strip()"
   ]
  },
  {
   "cell_type": "code",
   "execution_count": 18,
   "id": "00e35a23",
   "metadata": {},
   "outputs": [
    {
     "name": "stdout",
     "output_type": "stream",
     "text": [
      "\n",
      "Missing values in cleaned df2:\n",
      " Invoice        0\n",
      "StockCode      0\n",
      "Description    0\n",
      "Quantity       0\n",
      "InvoiceDate    0\n",
      "Price          0\n",
      "Customer ID    0\n",
      "Country        0\n",
      "dtype: int64\n"
     ]
    }
   ],
   "source": [
    "# Check for missing values after cleaning\n",
    "print(\"\\nMissing values in cleaned df2:\\n\", df_cleaned2.isnull().sum())"
   ]
  },
  {
   "cell_type": "code",
   "execution_count": 19,
   "id": "d83892d1",
   "metadata": {},
   "outputs": [
    {
     "name": "stdout",
     "output_type": "stream",
     "text": [
      "\n",
      "Shape of cleaned df1: (417534, 8)\n"
     ]
    }
   ],
   "source": [
    "# Check shape after cleaning\n",
    "print(\"\\nShape of cleaned df1:\", df_cleaned1.shape)"
   ]
  },
  {
   "cell_type": "code",
   "execution_count": 20,
   "id": "ad6e26ad",
   "metadata": {},
   "outputs": [
    {
     "name": "stdout",
     "output_type": "stream",
     "text": [
      "\n",
      "Number of duplicate rows in df1: 6865\n",
      "Number of duplicate rows in df2: 5268\n"
     ]
    }
   ],
   "source": [
    "# Check for duplicates\n",
    "print(\"\\nNumber of duplicate rows in df1:\", df1.duplicated().sum()) \n",
    "print(\"Number of duplicate rows in df2:\", df2.duplicated().sum())  "
   ]
  },
  {
   "cell_type": "code",
   "execution_count": 21,
   "id": "e6afe085",
   "metadata": {},
   "outputs": [],
   "source": [
    "# Drop duplicates if any\n",
    "df_cleaned1 = df_cleaned1.drop_duplicates()\n",
    "df_cleaned2 = df_cleaned2.drop_duplicates()"
   ]
  },
  {
   "cell_type": "code",
   "execution_count": 22,
   "id": "f061a7f9",
   "metadata": {},
   "outputs": [],
   "source": [
    "# Change the dateformat for df1 and df2\n",
    "df_cleaned1['InvoiceDate'] = pd.to_datetime(df_cleaned1['InvoiceDate'], format='%m/%d/%Y %H:%M',errors='coerce')\n",
    "df_cleaned2['InvoiceDate'] = pd.to_datetime(df_cleaned2['InvoiceDate'], format='%m/%d/%Y %H:%M',errors='coerce')"
   ]
  },
  {
   "cell_type": "code",
   "execution_count": 23,
   "id": "d3eefe6f",
   "metadata": {},
   "outputs": [
    {
     "name": "stdout",
     "output_type": "stream",
     "text": [
      "\n",
      "Shape of merged df: (812368, 8)\n"
     ]
    }
   ],
   "source": [
    "# Merge the two datasets df1 and df2\n",
    "merged_df = pd.concat([df_cleaned1, df_cleaned2], ignore_index=True)\n",
    "print(\"\\nShape of merged df:\", merged_df.shape)"
   ]
  },
  {
   "cell_type": "code",
   "execution_count": 24,
   "id": "c9135533",
   "metadata": {},
   "outputs": [
    {
     "name": "stdout",
     "output_type": "stream",
     "text": [
      "\n",
      "Number of duplicate rows in merged df: 14483\n"
     ]
    }
   ],
   "source": [
    "# Check for duplictes in merged df\n",
    "print(\"\\nNumber of duplicate rows in merged df:\", merged_df.duplicated().sum())"
   ]
  },
  {
   "cell_type": "code",
   "execution_count": 25,
   "id": "47e1dc11",
   "metadata": {},
   "outputs": [
    {
     "name": "stdout",
     "output_type": "stream",
     "text": [
      "\n",
      "Shape of merged df after dropping duplicates: (797885, 8)\n"
     ]
    }
   ],
   "source": [
    "# Drop the duplicates\n",
    "merged_df = merged_df.drop_duplicates()\n",
    "print(\"\\nShape of merged df after dropping duplicates:\", merged_df.shape)"
   ]
  },
  {
   "cell_type": "markdown",
   "id": "a15fd93f",
   "metadata": {},
   "source": [
    "Now that the data is cleaned and organised is i shall proceed to save the new cleaned dataframes."
   ]
  },
  {
   "cell_type": "code",
   "execution_count": 26,
   "id": "d8d54629",
   "metadata": {},
   "outputs": [],
   "source": [
    "# Save cleaned dataframes to new files\n",
    "df_cleaned1.to_csv(r'C:\\Users\\JUDAH\\Desktop\\Task 1\\FUTURE_DS_01\\Data\\Cleaned_Year_2009-2010.csv', index=False)\n",
    "df_cleaned2.to_csv(r'C:\\Users\\JUDAH\\Desktop\\Task 1\\FUTURE_DS_01\\Data\\Cleaned_Year_2010-2011.csv', index=False)\n",
    "merged_df.to_csv(r'C:\\Users\\JUDAH\\Desktop\\Task 1\\FUTURE_DS_01\\Data\\Merged_Cleaned_2009-2011.csv', index=False)"
   ]
  },
  {
   "cell_type": "markdown",
   "id": "c73b1b6f",
   "metadata": {},
   "source": [
    "Now that we have our cleaned data we can proceed to Power BI to create interactive dashboards and to see the relationships between different components of the cleaned tables."
   ]
  }
 ],
 "metadata": {
  "kernelspec": {
   "display_name": "learn-env",
   "language": "python",
   "name": "python3"
  },
  "language_info": {
   "codemirror_mode": {
    "name": "ipython",
    "version": 3
   },
   "file_extension": ".py",
   "mimetype": "text/x-python",
   "name": "python",
   "nbconvert_exporter": "python",
   "pygments_lexer": "ipython3",
   "version": "3.8.5"
  }
 },
 "nbformat": 4,
 "nbformat_minor": 5
}
